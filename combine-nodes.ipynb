{
 "cells": [
  {
   "cell_type": "markdown",
   "metadata": {},
   "source": [
    "# Utility to merge two set of nodes together\n",
    "\n",
    "Sometimes we have got new set of nodes, from different fetching, this utility will help merge them with existing ones."
   ]
  },
  {
   "cell_type": "code",
   "execution_count": null,
   "metadata": {},
   "outputs": [],
   "source": [
    "import pickle\n",
    "\n",
    "INPUT_NODES_PKL_FILE_1 = \"data/100nodes.pkl\"\n",
    "INPUT_NODES_PKL_FILE_2 = \"data/20nodes.pkl\"\n",
    "OUTPUT_NODES_PKL_FILE = \"data/combined.pkl\"\n",
    "\n",
    "nodes1 = {}\n",
    "with open(INPUT_NODES_PKL_FILE_1, \"rb\") as file:\n",
    "    nodes1 = pickle.load(file)\n",
    "\n",
    "nodes2 = {}\n",
    "with open(INPUT_NODES_PKL_FILE_2, \"rb\") as file:\n",
    "    nodes2 = pickle.load(file)\n",
    "\n",
    "print(f\"Input 1: {INPUT_NODES_PKL_FILE_1}: {len(nodes1):,} nodes\")\n",
    "print(f\"Input 2: {INPUT_NODES_PKL_FILE_2}: {len(nodes2):,} nodes\")"
   ]
  },
  {
   "cell_type": "code",
   "execution_count": null,
   "metadata": {},
   "outputs": [],
   "source": [
    "combined_nodes = z = {**nodes1, **nodes2}  # simple concat\n",
    "with open(OUTPUT_NODES_PKL_FILE, \"wb\") as file:\n",
    "    pickle.dump(combined_nodes, file)\n",
    "\n",
    "print(f\"Output: {OUTPUT_NODES_PKL_FILE}: {len(combined_nodes):,} nodes\")"
   ]
  },
  {
   "cell_type": "code",
   "execution_count": null,
   "metadata": {},
   "outputs": [],
   "source": [
    "# EXTRAS - Not necessary to run\n",
    "###############################\n",
    "\n",
    "# Only keeps nodes that are in the sample set\n",
    "\n",
    "import pandas as pd\n",
    "\n",
    "# Accounts input\n",
    "USERS_FILENAME = \"data/samples116-info-with-labels.xlsx\"\n",
    "USERS_SHEET = \"samples\"\n",
    "SCREEN_NAME_COL = \"screen_name\"\n",
    "\n",
    "users_df = pd.read_excel(USERS_FILENAME, sheet_name=USERS_SHEET)\n",
    "screen_names = users_df[SCREEN_NAME_COL].to_list()\n",
    "del users_df\n",
    "\n",
    "not_in_samples_screen_names = set(combined_nodes.keys()) - set(screen_names)\n",
    "\n",
    "for name in not_in_samples_screen_names:\n",
    "    del combined_nodes[name]\n",
    "    \n",
    "with open(OUTPUT_NODES_PKL_FILE, \"wb\") as file:\n",
    "    pickle.dump(combined_nodes, file)\n",
    "\n",
    "print(f\"Output: {OUTPUT_NODES_PKL_FILE}: {len(combined_nodes):,} nodes\")"
   ]
  }
 ],
 "metadata": {
  "kernelspec": {
   "display_name": "Python 3",
   "language": "python",
   "name": "python3"
  },
  "language_info": {
   "codemirror_mode": {
    "name": "ipython",
    "version": 3
   },
   "file_extension": ".py",
   "mimetype": "text/x-python",
   "name": "python",
   "nbconvert_exporter": "python",
   "pygments_lexer": "ipython3",
   "version": "3.7.5"
  }
 },
 "nbformat": 4,
 "nbformat_minor": 4
}
