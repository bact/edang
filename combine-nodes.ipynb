{
 "cells": [
  {
   "cell_type": "markdown",
   "metadata": {},
   "source": [
    "# Utility to merge two set of nodes together\n",
    "\n",
    "Sometimes we have got new set of nodes, this utility will help merge them with existing ones."
   ]
  },
  {
   "cell_type": "code",
   "execution_count": null,
   "metadata": {},
   "outputs": [],
   "source": [
    "import pickle\n",
    "\n",
    "INPUT_NODES_PKL_FILE_1 = \"friends1.pkl\"\n",
    "INPUT_NODES_PKL_FILE_2 = \"friends2.pkl\"\n",
    "OUTPUT_NODES_PKL_FILE = \"friends-combined.pkl\"\n",
    "\n",
    "nodes1 = {}\n",
    "with open(INPUT_NODES_PKL_FILE_1, \"rb\") as file:\n",
    "    nodes1 = pickle.load(file)\n",
    "\n",
    "nodes2 = {}\n",
    "with open(INPUT_NODES_PKL_FILE_2, \"rb\") as file:\n",
    "    nodes2 = pickle.load(file)\n",
    "\n",
    "print(f\"Input 1: {INPUT_NODES_PKL_FILE_1}: {len(nodes1):,} nodes\")\n",
    "print(f\"Input 2: {INPUT_NODES_PKL_FILE_2}: {len(nodes2):,} nodes\")"
   ]
  },
  {
   "cell_type": "code",
   "execution_count": null,
   "metadata": {},
   "outputs": [],
   "source": [
    "combined_nodes = z = {**nodes1, **nodes2}\n",
    "with open(OUTPUT_NODES_PKL_FILE, \"wb\") as file:\n",
    "    pickle.dump(combined_nodes, file)\n",
    "\n",
    "print(f\"Output: {OUTPUT_NODES_PKL_FILE}: {len(combined_nodes):,} nodes\")"
   ]
  },
  {
   "cell_type": "code",
   "execution_count": null,
   "metadata": {},
   "outputs": [],
   "source": []
  }
 ],
 "metadata": {
  "kernelspec": {
   "display_name": "Python 3",
   "language": "python",
   "name": "python3"
  },
  "language_info": {
   "codemirror_mode": {
    "name": "ipython",
    "version": 3
   },
   "file_extension": ".py",
   "mimetype": "text/x-python",
   "name": "python",
   "nbconvert_exporter": "python",
   "pygments_lexer": "ipython3",
   "version": "3.7.4"
  }
 },
 "nbformat": 4,
 "nbformat_minor": 2
}
