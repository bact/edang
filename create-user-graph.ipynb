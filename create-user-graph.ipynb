{
 "cells": [
  {
   "cell_type": "markdown",
   "metadata": {},
   "source": [
    "# Create graph of users\n",
    "\n",
    "- **Input:** List of users, List of followers of those uesrs, List of friends of those users\n",
    "- **Output:** Graph of users\n",
    "\n",
    "- TODO: Paint color of node according to label"
   ]
  },
  {
   "cell_type": "code",
   "execution_count": null,
   "metadata": {},
   "outputs": [],
   "source": [
    "import pandas as pd\n",
    "import pickle\n",
    "import networkx as nx\n",
    "import tweepy\n",
    "\n",
    "# Input\n",
    "USERS_FILENAME = \"data/firstvoters-samples116-info-with-labels.xlsx\"\n",
    "USERS_SHEET = \"samples\"\n",
    "\n",
    "FOLLOWERS_FILENAME_PKL = \"data/samples116-followers.pkl\"\n",
    "FRIENDS_FILENAME_PKL = \"data/samples116-friends.pkl\"\n",
    "\n",
    "# Output\n",
    "TOP_PAGERANK_FILENAME = \"data/samples116-pagerank-topXXXX.txt\""
   ]
  },
  {
   "cell_type": "markdown",
   "metadata": {},
   "source": [
    "## Get sampled users"
   ]
  },
  {
   "cell_type": "code",
   "execution_count": null,
   "metadata": {},
   "outputs": [],
   "source": [
    "USER_INFO_COLUMNS = [\n",
    "    \"screen_name\",\n",
    "    \"friends_count\",\n",
    "    \"followers_count\",\n",
    "    \"statuses_count\",\n",
    "    \"created_at\",\n",
    "    \"protected\",\n",
    "    \"verified\",\n",
    "]  # What attributes to save?\n",
    "\n",
    "users = {}\n",
    "df = pd.read_excel(USERS_FILENAME, sheet_name=USERS_SHEET, usecols=USER_INFO_COLUMNS)\n",
    "for index, node in df.iterrows():\n",
    "    screen_name = node[\"screen_name\"]\n",
    "    users[screen_name] = {\n",
    "        \"protected\": node.protected,\n",
    "        \"verified\": node.verified,\n",
    "        \"followers_count\": node.followers_count,\n",
    "        \"friends_count\": node.friends_count,\n",
    "        \"statuses_count\": node.statuses_count,\n",
    "        \"created_at\": node.created_at.isoformat(),\n",
    "        \"seed_node\": True,\n",
    "    }\n",
    "del df\n",
    "\n",
    "print(f\"Filename (sheetname): {USERS_FILENAME} ({USERS_SHEET})\")\n",
    "print(f\"Users: {len(users)}\")"
   ]
  },
  {
   "cell_type": "markdown",
   "metadata": {},
   "source": [
    "## Dict containing info about followers of the sampled users\n",
    "Read the dict from a pickled file"
   ]
  },
  {
   "cell_type": "code",
   "execution_count": null,
   "metadata": {},
   "outputs": [],
   "source": [
    "followers = {}\n",
    "with open(FOLLOWERS_FILENAME_PKL, \"rb\") as file:\n",
    "    followers = pickle.load(file)\n",
    "\n",
    "print(f\"Filename: {FOLLOWERS_FILENAME_PKL}\")\n",
    "print(f\"Followers: {len(followers)}\")"
   ]
  },
  {
   "cell_type": "markdown",
   "metadata": {},
   "source": [
    "## Dict containing info about friends (\"following\") of the sampled users\n",
    "Read the dict from a pickled file\n",
    "\n",
    "(friends = users that the sampled users following)"
   ]
  },
  {
   "cell_type": "code",
   "execution_count": null,
   "metadata": {},
   "outputs": [],
   "source": [
    "friends = {}\n",
    "with open(FRIENDS_FILENAME_PKL, \"rb\") as file:\n",
    "    friends = pickle.load(file)\n",
    "\n",
    "print(f\"Filename: {FRIENDS_FILENAME_PKL}\")\n",
    "print(f\"Friends: {len(friends)}\")"
   ]
  },
  {
   "cell_type": "markdown",
   "metadata": {},
   "source": [
    "## Make sure all dictionaries (followers/followings) have even keys\n",
    "\n",
    "It is possible to have missing data. If it is the case, discards that user."
   ]
  },
  {
   "cell_type": "code",
   "execution_count": null,
   "metadata": {},
   "outputs": [],
   "source": [
    "test_users = list(users.keys())\n",
    "\n",
    "_new_users = {k: v for k, v in users.items() if k in test_users}\n",
    "_new_followers = {k: v for k, v in followers.items() if k in test_users}\n",
    "_new_friends = {k: v for k, v in friends.items() if k in test_users}\n",
    "\n",
    "users = _new_users\n",
    "followers = _new_followers\n",
    "friends = _new_friends\n",
    "\n",
    "print(\"Users that do not have info about their followers:\")\n",
    "print(set(users.keys()).difference(set(followers.keys())))\n",
    "\n",
    "print(\"Users that do not have info about their friends:\")\n",
    "print(set(users.keys()).difference(set(friends.keys())))"
   ]
  },
  {
   "cell_type": "markdown",
   "metadata": {},
   "source": [
    "## Remove users that do not have followers or friends info"
   ]
  },
  {
   "cell_type": "code",
   "execution_count": null,
   "metadata": {},
   "outputs": [],
   "source": [
    "for key in set(followers.keys()).difference(set(friends.keys())):\n",
    "    followers.pop(key)\n",
    "\n",
    "for key in set(friends.keys()).difference(set(followers.keys())):\n",
    "    friends.pop(key)\n",
    "\n",
    "for key in set(users.keys()).difference(set(friends.keys())):\n",
    "    users.pop(key)\n",
    "\n",
    "print(f\"Remaining users: {len(users)}\")"
   ]
  },
  {
   "cell_type": "markdown",
   "metadata": {},
   "source": [
    "## Create a graph (Approach 1)\n",
    "\n",
    "Choose either this one OR another below."
   ]
  },
  {
   "cell_type": "code",
   "execution_count": null,
   "metadata": {},
   "outputs": [],
   "source": [
    "g = nx.DiGraph()\n",
    "\n",
    "for name in users.keys():\n",
    "    node = users[name]\n",
    "    g.add_node(name, attr_dict={\n",
    "        \"label\": name,\n",
    "        \"screen_name\": name,\n",
    "        \"protected\": node[\"protected\"],\n",
    "        \"verified\": node[\"verified\"],\n",
    "        \"followers_count\": node[\"followers_count\"],\n",
    "        \"friends_count\": node[\"friends_count\"],\n",
    "        \"statuses_count\": node[\"statuses_count\"],\n",
    "        \"created_at\": node[\"created_at\"],\n",
    "        \"seed_node\": True,\n",
    "    })\n",
    "\n",
    "for name in followers.keys():\n",
    "    for node in followers[name]:\n",
    "        g.add_node(node.screen_name, attr_dict={\n",
    "            \"label\": node.screen_name,\n",
    "            \"screen_name\": node.screen_name,\n",
    "            \"protected\": node.protected,\n",
    "            \"verified\": node.verified,\n",
    "            \"followers_count\": node.followers_count,\n",
    "            \"friends_count\": node.friends_count,\n",
    "            \"statuses_count\": node.statuses_count,\n",
    "            \"created_at\": node.created_at,\n",
    "            \"seed_node\": False,\n",
    "        })\n",
    "        g.add_edge(node.screen_name, name)  # 1 follows 2\n",
    "\n",
    "for name in friends.keys():\n",
    "    for node in friends[name]:\n",
    "        g.add_node(node.screen_name, attr_dict={\n",
    "            \"label\": node.screen_name,\n",
    "            \"screen_name\": node.screen_name,\n",
    "            \"protected\": node.protected,\n",
    "            \"verified\": node.verified,\n",
    "            \"followers_count\": node.followers_count,\n",
    "            \"friends_count\": node.friends_count,\n",
    "            \"statuses_count\": node.statuses_count,\n",
    "            \"created_at\": node.created_at,\n",
    "            \"seed_node\": False,\n",
    "        })\n",
    "        g.add_edge(name, node.screen_name)  # 1 follows 2\n",
    "\n",
    "print(f\"Nodes: {len(list(g.nodes)):,}\")\n",
    "print(f\"Edges: {len(list(g.edges)):,}\")"
   ]
  },
  {
   "cell_type": "markdown",
   "metadata": {},
   "source": [
    "## Create a graph (Approach 2)\n",
    "\n",
    "Choose eithet this one OR another above."
   ]
  },
  {
   "cell_type": "code",
   "execution_count": null,
   "metadata": {},
   "outputs": [],
   "source": [
    "g = nx.DiGraph()\n",
    "\n",
    "for name in users.keys():\n",
    "    node = users[name]\n",
    "    g.add_node(name,\n",
    "               label=name,\n",
    "               followers_count=node[\"followers_count\"],\n",
    "               friends_count=node[\"friends_count\"],\n",
    "               seed_node=True,\n",
    "               color=\"red\"\n",
    "              )\n",
    "\n",
    "for name in followers.keys():\n",
    "    for node in followers[name]:\n",
    "        g.add_node(node.screen_name,\n",
    "                   label=node.screen_name,\n",
    "                   followers_count=node.followers_count,\n",
    "                   friends_count=node.friends_count,\n",
    "                   seed_node=False,\n",
    "                   color=\"blue\"\n",
    "                  )\n",
    "        g.add_edge(node.screen_name, name)  # 1 follows 2\n",
    "\n",
    "for name in friends.keys():\n",
    "    for node in friends[name]:\n",
    "        g.add_node(node.screen_name,\n",
    "                   label=node.screen_name,\n",
    "                   followers_count=node.followers_count,\n",
    "                   friends_count=node.friends_count,\n",
    "                   seed_node=False,\n",
    "                   color=\"blue\"\n",
    "                  )\n",
    "        g.add_edge(name, node.screen_name)  # 1 follows 2\n",
    "\n",
    "print(f\"Nodes: {len(list(g.nodes)):,}\")\n",
    "print(f\"Edges: {len(list(g.edges)):,}\")"
   ]
  },
  {
   "cell_type": "markdown",
   "metadata": {},
   "source": [
    "## Calculate PageRank"
   ]
  },
  {
   "cell_type": "code",
   "execution_count": null,
   "metadata": {},
   "outputs": [],
   "source": [
    "import operator\n",
    "\n",
    "pr = nx.pagerank(g)  # pr is PageRank of graph g\n",
    "\n",
    "sorted_x = sorted(pr.items(), key=operator.itemgetter(1), reverse=True)\n",
    "sorted_x[:10]  # See top 10 nodes, sorted by PageRank"
   ]
  },
  {
   "cell_type": "code",
   "execution_count": null,
   "metadata": {},
   "outputs": [],
   "source": [
    "TOP_PAGERANK_FILENAME = \"data/samples116-pagerank-top1200.txt\"\n",
    "\n",
    "top_pagerank = [name for name,_ in sorted_x[:1200]]  # Get Top 1,200\n",
    "\n",
    "with open(TOP_PAGERANK_FILENAME, \"w\") as file:\n",
    "    file.write(\"\\n\".join(top_pagerank))"
   ]
  },
  {
   "cell_type": "markdown",
   "metadata": {},
   "source": [
    "## Save grapgh as Pickle and GraphML"
   ]
  },
  {
   "cell_type": "code",
   "execution_count": null,
   "metadata": {},
   "outputs": [],
   "source": [
    "import pickle\n",
    "\n",
    "# Output\n",
    "GRAPH_FILENAME_PKL = \"data/samples116-graph.pkl\"\n",
    "GRAPH_FILENAME_GRAPHML = \"data/samples116-graph.graphml\"\n",
    "\n",
    "with open(GRAPH_FILENAME_PKL, \"wb\") as file:\n",
    "    pickle.dump(g, file)\n",
    "\n",
    "nx.write_graphml_lxml(g, GRAPH_FILENAME_GRAPHML)"
   ]
  },
  {
   "cell_type": "code",
   "execution_count": null,
   "metadata": {},
   "outputs": [],
   "source": [
    "# Load the graph pickle\n",
    "\n",
    "#import pickle\n",
    "#import networkx as nx\n",
    "#\n",
    "#GRAPH_FILENAME_PKL = \"data/samples116-graph.pkl\"\n",
    "#\n",
    "#with open(GRAPH_FILENAME_PKL, \"rb\") as file:\n",
    "#    g = pickle.load(file)\n",
    "#\n",
    "#len(g)"
   ]
  },
  {
   "cell_type": "markdown",
   "metadata": {},
   "source": [
    "## Try draw the graph (can be very slow)"
   ]
  },
  {
   "cell_type": "code",
   "execution_count": null,
   "metadata": {},
   "outputs": [],
   "source": [
    "%matplotlib inline\n",
    "nx.draw(g, node_shape=\"o\", alpha=0.5, linewidths=4, width=2, edge_color=\"grey\")"
   ]
  },
  {
   "cell_type": "code",
   "execution_count": null,
   "metadata": {},
   "outputs": [],
   "source": []
  }
 ],
 "metadata": {
  "kernelspec": {
   "display_name": "Python 3",
   "language": "python",
   "name": "python3"
  },
  "language_info": {
   "codemirror_mode": {
    "name": "ipython",
    "version": 3
   },
   "file_extension": ".py",
   "mimetype": "text/x-python",
   "name": "python",
   "nbconvert_exporter": "python",
   "pygments_lexer": "ipython3",
   "version": "3.7.5"
  }
 },
 "nbformat": 4,
 "nbformat_minor": 4
}
