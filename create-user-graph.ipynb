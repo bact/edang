{
 "cells": [
  {
   "cell_type": "markdown",
   "metadata": {},
   "source": [
    "# Create graph of users\n",
    "\n",
    "- TODO: Paint color of node according to label"
   ]
  },
  {
   "cell_type": "code",
   "execution_count": null,
   "metadata": {},
   "outputs": [],
   "source": [
    "import pandas as pd\n",
    "import pickle\n",
    "import networkx as nx\n",
    "import tweepy"
   ]
  },
  {
   "cell_type": "markdown",
   "metadata": {},
   "source": [
    "## Get sampled users"
   ]
  },
  {
   "cell_type": "code",
   "execution_count": null,
   "metadata": {},
   "outputs": [],
   "source": [
    "users = {}\n",
    "user_file_name = \"edang-firstvoters-info-samples.xlsx\"\n",
    "user_sheet_name = \"samples\"\n",
    "user_columns = [\n",
    "    \"screen_name\",\n",
    "    \"friends_count\",\n",
    "    \"followers_count\",\n",
    "    \"statuses_count\",\n",
    "    \"created_at\",\n",
    "    \"protected\",\n",
    "    \"verified\",\n",
    "]\n",
    "df = pd.read_excel(user_file_name, sheet_name=user_sheet_name, usecols=user_columns)\n",
    "for index, node in df.iterrows():\n",
    "    screen_name = node[\"screen_name\"]\n",
    "    users[screen_name] = {\n",
    "        \"protected\": node.protected,\n",
    "        \"verified\": node.verified,\n",
    "        \"followers_count\": node.followers_count,\n",
    "        \"friends_count\": node.friends_count,\n",
    "        \"statuses_count\": node.statuses_count,\n",
    "        \"created_at\": node.created_at.isoformat(),\n",
    "        \"seed_node\": True,\n",
    "    }\n",
    "del df\n",
    "\n",
    "print(f\"Users: {len(users)}\")"
   ]
  },
  {
   "cell_type": "markdown",
   "metadata": {},
   "source": [
    "## Dict containing info about followers of the sampled users\n",
    "Read the dict from a pickled file"
   ]
  },
  {
   "cell_type": "code",
   "execution_count": null,
   "metadata": {},
   "outputs": [],
   "source": [
    "followers = {}\n",
    "with open(\"edang-followers-118nodes.pkl\", \"rb\") as file:\n",
    "    followers = pickle.load(file)\n",
    "\n",
    "print(f\"Followers: {len(followers)}\")"
   ]
  },
  {
   "cell_type": "markdown",
   "metadata": {},
   "source": [
    "## Dict containing info about friends (\"following\") of the sampled users\n",
    "Read the dict from a pickled file\n",
    "\n",
    "friends = users that the sampled users following"
   ]
  },
  {
   "cell_type": "code",
   "execution_count": null,
   "metadata": {},
   "outputs": [],
   "source": [
    "friends = {}\n",
    "with open(\"edang-friends-120nodes.pkl\", \"rb\") as file:\n",
    "    friends = pickle.load(file)\n",
    "\n",
    "print(f\"Friends: {len(friends)}\")"
   ]
  },
  {
   "cell_type": "markdown",
   "metadata": {},
   "source": [
    "## Make sure all dictionaries have even keys\n",
    "\n",
    "It is possible to have missing data."
   ]
  },
  {
   "cell_type": "code",
   "execution_count": null,
   "metadata": {},
   "outputs": [],
   "source": [
    "test_users = list(users.keys())\n",
    "\n",
    "_new_users = {k: v for k, v in users.items() if k in test_users}\n",
    "_new_followers = {k: v for k, v in followers.items() if k in test_users}\n",
    "_new_friends = {k: v for k, v in friends.items() if k in test_users}\n",
    "\n",
    "users = _new_users\n",
    "followers = _new_followers\n",
    "friends = _new_friends"
   ]
  },
  {
   "cell_type": "markdown",
   "metadata": {},
   "source": [
    "## Users that do not have info about their followers"
   ]
  },
  {
   "cell_type": "code",
   "execution_count": null,
   "metadata": {},
   "outputs": [],
   "source": [
    "set(users.keys()).difference(set(followers.keys()))"
   ]
  },
  {
   "cell_type": "markdown",
   "metadata": {},
   "source": [
    "## Users that do not have info about their friends"
   ]
  },
  {
   "cell_type": "code",
   "execution_count": null,
   "metadata": {},
   "outputs": [],
   "source": [
    "set(users.keys()).difference(set(friends.keys()))"
   ]
  },
  {
   "cell_type": "markdown",
   "metadata": {},
   "source": [
    "## Remove users that do not have followers or friends info"
   ]
  },
  {
   "cell_type": "code",
   "execution_count": null,
   "metadata": {},
   "outputs": [],
   "source": [
    "for key in set(followers.keys()).difference(set(friends.keys())):\n",
    "    followers.pop(key)\n",
    "\n",
    "for key in set(friends.keys()).difference(set(followers.keys())):\n",
    "    friends.pop(key)\n",
    "\n",
    "for key in set(users.keys()).difference(set(friends.keys())):\n",
    "    users.pop(key)\n",
    "\n",
    "len(users)"
   ]
  },
  {
   "cell_type": "markdown",
   "metadata": {},
   "source": [
    "## Create graph and export to GraphML file (Approach 1)\n",
    "\n",
    "Choose either this one OR another below."
   ]
  },
  {
   "cell_type": "code",
   "execution_count": null,
   "metadata": {},
   "outputs": [],
   "source": [
    "g = nx.DiGraph()\n",
    "\n",
    "for name in users.keys():\n",
    "    node = users[name]\n",
    "    g.add_node(name, attr_dict={\n",
    "        \"label\": name,\n",
    "        \"screen_name\": name,\n",
    "        \"protected\": node[\"protected\"],\n",
    "        \"verified\": node[\"verified\"],\n",
    "        \"followers_count\": node[\"followers_count\"],\n",
    "        \"friends_count\": node[\"friends_count\"],\n",
    "        \"statuses_count\": node[\"statuses_count\"],\n",
    "        \"created_at\": node[\"created_at\"],\n",
    "        \"seed_node\": True,\n",
    "    })\n",
    "\n",
    "for name in followers.keys():\n",
    "    for node in followers[name]:\n",
    "        g.add_node(node.screen_name, attr_dict={\n",
    "            \"label\": node.screen_name,\n",
    "            \"screen_name\": node.screen_name,\n",
    "            \"protected\": node.protected,\n",
    "            \"verified\": node.verified,\n",
    "            \"followers_count\": node.followers_count,\n",
    "            \"friends_count\": node.friends_count,\n",
    "            \"statuses_count\": node.statuses_count,\n",
    "            \"created_at\": node.created_at,\n",
    "            \"seed_node\": False,\n",
    "        })\n",
    "        g.add_edge(node.screen_name, name)  # 1 follows 2\n",
    "\n",
    "for name in friends.keys():\n",
    "    for node in friends[name]:\n",
    "        g.add_node(node.screen_name, attr_dict={\n",
    "            \"label\": node.screen_name,\n",
    "            \"screen_name\": node.screen_name,\n",
    "            \"protected\": node.protected,\n",
    "            \"verified\": node.verified,\n",
    "            \"followers_count\": node.followers_count,\n",
    "            \"friends_count\": node.friends_count,\n",
    "            \"statuses_count\": node.statuses_count,\n",
    "            \"created_at\": node.created_at,\n",
    "            \"seed_node\": False,\n",
    "        })\n",
    "        g.add_edge(name, node.screen_name)  # 1 follows 2\n",
    "\n",
    "print(f\"Nodes: {len(list(g.nodes)):,}\")\n",
    "print(f\"Edges: {len(list(g.edges)):,}\")"
   ]
  },
  {
   "cell_type": "markdown",
   "metadata": {},
   "source": [
    "## Create graph and export to GraphML file (Approach 2)\n",
    "\n",
    "Choose eithet this one OR another above."
   ]
  },
  {
   "cell_type": "code",
   "execution_count": null,
   "metadata": {},
   "outputs": [],
   "source": [
    "g = nx.DiGraph()\n",
    "\n",
    "for name in users.keys():\n",
    "    node = users[name]\n",
    "    g.add_node(name,\n",
    "               label=name,\n",
    "               followers_count=node[\"followers_count\"],\n",
    "               friends_count=node[\"friends_count\"],\n",
    "               seed_node=True,\n",
    "               color=\"red\"\n",
    "              )\n",
    "\n",
    "for name in followers.keys():\n",
    "    for node in followers[name]:\n",
    "        g.add_node(node.screen_name,\n",
    "                   label=node.screen_name,\n",
    "                   followers_count=node.followers_count,\n",
    "                   friends_count=node.friends_count,\n",
    "                   seed_node=False,\n",
    "                   color=\"blue\"\n",
    "                  )\n",
    "        g.add_edge(node.screen_name, name)  # 1 follows 2\n",
    "\n",
    "for name in friends.keys():\n",
    "    for node in friends[name]:\n",
    "        g.add_node(node.screen_name,\n",
    "                   label=node.screen_name,\n",
    "                   followers_count=node.followers_count,\n",
    "                   friends_count=node.friends_count,\n",
    "                   seed_node=False,\n",
    "                   color=\"blue\"\n",
    "                  )\n",
    "        g.add_edge(name, node.screen_name)  # 1 follows 2\n",
    "\n",
    "print(f\"Nodes: {len(list(g.nodes)):,}\")\n",
    "print(f\"Edges: {len(list(g.edges)):,}\")"
   ]
  },
  {
   "cell_type": "markdown",
   "metadata": {},
   "source": [
    "## Calculate PageRank"
   ]
  },
  {
   "cell_type": "code",
   "execution_count": null,
   "metadata": {},
   "outputs": [],
   "source": [
    "import operator\n",
    "\n",
    "pr = nx.pagerank(g)  # pr is PageRank of graph g\n",
    "\n",
    "sorted_x = sorted(pr.items(), key=operator.itemgetter(1), reverse=True)\n",
    "sorted_x[:1000]  # See top 1,000 nodes, sorted by PageRank"
   ]
  },
  {
   "cell_type": "markdown",
   "metadata": {},
   "source": [
    "## Save grapgh as Pickle and GraphML"
   ]
  },
  {
   "cell_type": "code",
   "execution_count": null,
   "metadata": {},
   "outputs": [],
   "source": [
    "import pickle\n",
    "\n",
    "with open(\"xxxxgraph.pkl\", \"wb\") as file:\n",
    "    pickle.dump(g, file)\n",
    "\n",
    "nx.write_graphml_lxml(g, \"xxxxgraph.graphml\")"
   ]
  },
  {
   "cell_type": "markdown",
   "metadata": {},
   "source": [
    "## Try draw the graph (can be very slow)"
   ]
  },
  {
   "cell_type": "code",
   "execution_count": null,
   "metadata": {},
   "outputs": [],
   "source": [
    "%matplotlib inline\n",
    "nx.draw(g, node_shape=\"o\", alpha=0.5, linewidths=4, width=2, edge_color=\"grey\")"
   ]
  },
  {
   "cell_type": "code",
   "execution_count": null,
   "metadata": {},
   "outputs": [],
   "source": []
  }
 ],
 "metadata": {
  "kernelspec": {
   "display_name": "Python 3",
   "language": "python",
   "name": "python3"
  },
  "language_info": {
   "codemirror_mode": {
    "name": "ipython",
    "version": 3
   },
   "file_extension": ".py",
   "mimetype": "text/x-python",
   "name": "python",
   "nbconvert_exporter": "python",
   "pygments_lexer": "ipython3",
   "version": "3.7.4"
  }
 },
 "nbformat": 4,
 "nbformat_minor": 2
}
