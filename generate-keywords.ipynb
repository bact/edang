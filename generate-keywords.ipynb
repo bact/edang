{
 "cells": [
  {
   "cell_type": "markdown",
   "metadata": {},
   "source": [
    "# Generate keyword list from Zocial Eye's Main Keyword column"
   ]
  },
  {
   "cell_type": "code",
   "execution_count": null,
   "metadata": {},
   "outputs": [],
   "source": [
    "import pandas as pd\n",
    "import re\n",
    "\n",
    "# input\n",
    "keywords_excel_file_name = \"edang-2019-01-21-2019-05-25.xlsx\"\n",
    "keywords_sheet_name = \"twitter\"\n",
    "keywords_column = \"Main keyword\"\n",
    "\n",
    "# output\n",
    "keywords_text_file_name = \"edang-keywords.txt\"\n",
    "\n",
    "keywords = set()\n",
    "\n",
    "df = pd.read_excel(keywords_excel_file_name, sheet_name=keywords_sheet_name, usecols=[keywords_column])\n",
    "for index, row in df.iterrows():\n",
    "    _keywords = list(filter(None, re.split(\"[,+~ ]+\", row[keywords_column])))\n",
    "    for word in _keywords:\n",
    "        keywords.add(word)\n",
    "del df\n",
    "\n",
    "keywords = sorted(list(keywords))\n",
    "\n",
    "print(f\"{len(keywords):,} found.\")\n",
    "\n",
    "with open(keywords_text_file_name, \"w\") as file:\n",
    "    file.writelines([f\"{word}\\n\" for word in keywords])"
   ]
  },
  {
   "cell_type": "code",
   "execution_count": null,
   "metadata": {},
   "outputs": [],
   "source": [
    "keywords[:50]"
   ]
  },
  {
   "cell_type": "code",
   "execution_count": null,
   "metadata": {},
   "outputs": [],
   "source": []
  }
 ],
 "metadata": {
  "kernelspec": {
   "display_name": "Python 3",
   "language": "python",
   "name": "python3"
  },
  "language_info": {
   "codemirror_mode": {
    "name": "ipython",
    "version": 3
   },
   "file_extension": ".py",
   "mimetype": "text/x-python",
   "name": "python",
   "nbconvert_exporter": "python",
   "pygments_lexer": "ipython3",
   "version": "3.7.5"
  }
 },
 "nbformat": 4,
 "nbformat_minor": 4
}
