{
 "cells": [
  {
   "cell_type": "markdown",
   "metadata": {},
   "source": [
    "# Get messages of each user in a particular period of time, from Twitter API"
   ]
  },
  {
   "cell_type": "code",
   "execution_count": null,
   "metadata": {},
   "outputs": [],
   "source": [
    "from configparser import ConfigParser\n",
    "from typing import List\n",
    "\n",
    "from datetime import datetime\n",
    "import pandas as pd\n",
    "import tweepy\n",
    "\n",
    "##############\n",
    "\n",
    "# Accounts input (sampled users)\n",
    "accounts_file_name = \"edang-firstvoters-info-samples.xlsx\"\n",
    "accounts_sheet_name = \"samples\"\n",
    "screen_name_col = \"screen_name\"\n",
    "\n",
    "# Read Twitter API keys and tokens from a config file\n",
    "config_object = ConfigParser()\n",
    "config_object.read(\"config.ini\")\n",
    "twitter_auth = config_object[\"TWITTER_AUTH\"]\n",
    "\n",
    "consumer_key = twitter_auth[\"CONSUMER_KEY\"]\n",
    "consumer_secret = twitter_auth[\"CONSUMER_SECRET\"]\n",
    "access_token = twitter_auth[\"ACCESS_TOKEN\"]\n",
    "access_token_secret = twitter_auth[\"ACCESS_TOKEN_SECRET\"]\n",
    "    \n",
    "auth = tweepy.OAuthHandler(consumer_key, consumer_secret)\n",
    "auth.set_access_token(access_token, access_token_secret)\n",
    "\n",
    "api = tweepy.API(auth, wait_on_rate_limit=True, wait_on_rate_limit_notify=True, compression=True)\n",
    "\n",
    "#############\n",
    "\n",
    "# datetime format from Zocial Eye Excel export\n",
    "datetime_format = '%Y-%m-%d %H:%M:%S'  # 2019-02-15 15:50:56\n",
    "\n",
    "# the election day\n",
    "election_date = datetime(2019, 3, 24)\n",
    "\n",
    "start_date = datetime(2019, 3, 23) \n",
    "end_date = datetime(2019, 3, 25)\n",
    "\n",
    "# date limit: back to 1 Dec 2018\n",
    "_DATE_LIMIT = datetime(2018, 12, 1)\n",
    "\n",
    "_TWEETS_LIMIT = 1000"
   ]
  },
  {
   "cell_type": "markdown",
   "metadata": {},
   "source": [
    "## Read sampled user list"
   ]
  },
  {
   "cell_type": "code",
   "execution_count": null,
   "metadata": {},
   "outputs": [],
   "source": [
    "screen_names_df = pd.read_excel(accounts_file_name, sheet_name=accounts_sheet_name, usecols=[screen_name_col])\n",
    "screen_names = screen_names_df[\"screen_name\"].drop_duplicates().values.tolist()\n",
    "\n",
    "print(f\"Screen names: {screen_names[:1]} .. {screen_names[-1:]}\")\n",
    "print(f\"Total: {len(screen_names):,}\")"
   ]
  },
  {
   "cell_type": "markdown",
   "metadata": {},
   "source": [
    "## Get tweets of each user and write them to file"
   ]
  },
  {
   "cell_type": "code",
   "execution_count": null,
   "metadata": {},
   "outputs": [],
   "source": [
    "def limit_handled(cursor):\n",
    "    while True:\n",
    "        try:\n",
    "            yield cursor.next()\n",
    "        except StopIteration:\n",
    "            return\n",
    "        except tweepy.RateLimitError:\n",
    "            print(\"Rate limit reached, wait for 15 seconds...\")\n",
    "            time.sleep(15 * 60)\n",
    "\n",
    "\n",
    "def get_tweets(username: str, filename: str, tweets_limit: int = _TWEETS_LIMIT, date_limit=_DATE_LIMIT) -> str:\n",
    "    tweets_num = 0\n",
    "    with open(filename, \"w\") as f:\n",
    "        try:\n",
    "            for status in limit_handled(tweepy.Cursor(api.user_timeline, screen_name=username).items()):\n",
    "                if status.created_at < date_limit:\n",
    "                    print(\"Date limit reached.\")\n",
    "                    break\n",
    "                f.writelines([\n",
    "                    f\"{status.text}\\n\",\n",
    "                    f\"{status.created_at}\\n\",\n",
    "                    \"----\\n\",\n",
    "                ])\n",
    "                tweets_num += 1\n",
    "        except tweepy.TweepError:\n",
    "            print(\"TweepError: Twitter error response: status code = 401 (maybe protected/suspended, or bad connection)\")\n",
    "\n",
    "    return tweets_num\n",
    "\n",
    "def get_tweets_from_users(screen_names):\n",
    "    for i, screen_name in enumerate(screen_names):\n",
    "        print(f\"{i}: {screen_name} - get tweets...\")\n",
    "        tweets_num = get_tweets(screen_name, f\"{screen_name.lower()}.txt\")\n",
    "        print(f\"Done: {tweets_num} tweets\")"
   ]
  },
  {
   "cell_type": "code",
   "execution_count": null,
   "metadata": {},
   "outputs": [],
   "source": [
    "# get_tweets_from_users([\"bact\"])\n",
    "\n",
    "get_tweets_from_users(screen_names)"
   ]
  },
  {
   "cell_type": "code",
   "execution_count": null,
   "metadata": {},
   "outputs": [],
   "source": []
  }
 ],
 "metadata": {
  "kernelspec": {
   "display_name": "Python 3",
   "language": "python",
   "name": "python3"
  },
  "language_info": {
   "codemirror_mode": {
    "name": "ipython",
    "version": 3
   },
   "file_extension": ".py",
   "mimetype": "text/x-python",
   "name": "python",
   "nbconvert_exporter": "python",
   "pygments_lexer": "ipython3",
   "version": "3.7.4"
  }
 },
 "nbformat": 4,
 "nbformat_minor": 2
}
