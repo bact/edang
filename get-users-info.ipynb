{
 "cells": [
  {
   "cell_type": "markdown",
   "metadata": {},
   "source": [
    "# Get users info"
   ]
  },
  {
   "cell_type": "markdown",
   "metadata": {},
   "source": [
    "## Read config and first voters list"
   ]
  },
  {
   "cell_type": "code",
   "execution_count": null,
   "metadata": {},
   "outputs": [],
   "source": [
    "from configparser import ConfigParser\n",
    "from typing import List\n",
    "\n",
    "import time\n",
    "from random import randint\n",
    "\n",
    "import pandas as pd\n",
    "import tweepy\n",
    "\n",
    "\n",
    "# Accounts input\n",
    "accounts_file_name = \"edang-firstvoters.xlsx\"\n",
    "accounts_sheet_name = \"accounts\"\n",
    "screen_name_column = \"Screen Name\"\n",
    "\n",
    "# Read Twitter API keys and tokens from a config file\n",
    "config_object = ConfigParser()\n",
    "config_object.read(\"config.ini\")\n",
    "twitter_auth = config_object[\"TWITTER_AUTH\"]\n",
    "\n",
    "consumer_key = twitter_auth[\"CONSUMER_KEY\"]\n",
    "consumer_secret = twitter_auth[\"CONSUMER_SECRET\"]\n",
    "access_token = twitter_auth[\"ACCESS_TOKEN\"]\n",
    "access_token_secret = twitter_auth[\"ACCESS_TOKEN_SECRET\"]\n",
    "    \n",
    "auth = tweepy.OAuthHandler(consumer_key, consumer_secret)\n",
    "auth.set_access_token(access_token, access_token_secret)\n",
    "\n",
    "api = tweepy.API(auth, wait_on_rate_limit=True, wait_on_rate_limit_notify=True, compression=True)\n",
    "\n",
    "twitter_user_info_fields = {\n",
    "    \"id\": \"int64\",\n",
    "    \"id_str\": \"str\",\n",
    "    \"screen_name\": \"str\",\n",
    "    \"name\": \"str\",\n",
    "    \"friends_count\": \"int32\",\n",
    "    \"followers_count\": \"int32\",\n",
    "    \"statuses_count\": \"int32\",\n",
    "    \"location\": \"str\",\n",
    "    \"lang\": \"category\",\n",
    "    \"time_zone\": \"category\",\n",
    "    \"created_at\": \"datetime64\",\n",
    "    \"protected\": \"bool\",\n",
    "    \"verified\": \"bool\",\n",
    "    #\"suspended\": \"bool\",\n",
    "    #\"needs_phone_verification\": \"bool\",\n",
    "}\n",
    "\n",
    "twitter_user_info_defaults = {\n",
    "    \"id\": 0,\n",
    "    \"id_str\": \"\",\n",
    "    \"screen_name\": \"\",\n",
    "    \"name\": \"\",\n",
    "    \"friends_count\": 0,\n",
    "    \"followers_count\": 0,\n",
    "    \"statuses_count\": 0,\n",
    "    \"location\": \"\",\n",
    "    \"lang\": \"\",\n",
    "    \"time_zone\": \"\",\n",
    "    \"created_at\": None,\n",
    "    \"protected\": False,\n",
    "    \"verified\": False,\n",
    "}\n",
    "\n",
    "# Prepare empty data frame for Twitter user info\n",
    "users_df = pd.DataFrame(columns=twitter_user_info_fields.keys())\n",
    "for field, dtype in twitter_user_info_fields.items():\n",
    "    users_df[field] = users_df[field].astype(dtype)\n",
    "users_df[\"fetching_notes\"] = \"\"\n",
    "\n",
    "screen_names_df = pd.read_excel(accounts_file_name, sheet_name=accounts_sheet_name)\n",
    "screen_names_df.head()"
   ]
  },
  {
   "cell_type": "code",
   "execution_count": null,
   "metadata": {},
   "outputs": [],
   "source": [
    "screen_names_df.describe()"
   ]
  },
  {
   "cell_type": "markdown",
   "metadata": {},
   "source": [
    "## Get info of each user"
   ]
  },
  {
   "cell_type": "code",
   "execution_count": null,
   "metadata": {},
   "outputs": [],
   "source": [
    "rate_limit_status = api.rate_limit_status()\n",
    "rate_limit = rate_limit_status[\"resources\"][\"users\"][\"/users/show/:id\"][\"limit\"]\n",
    "\n",
    "job_len = len(screen_names_df[screen_name_column])\n",
    "\n",
    "rows = []\n",
    "for i, name in enumerate(screen_names_df[screen_name_column]):\n",
    "    row = twitter_user_info_defaults.copy()\n",
    "    row.update({\"screen_name\": name})\n",
    "    try:\n",
    "        user = api.get_user(screen_name=name)\n",
    "    except tweepy.TweepError as e:\n",
    "        print(f\"{i+1}: Fetching info of screen name: {name}\")\n",
    "        print(\"Error:\", e.api_code)\n",
    "        print(e.reason)\n",
    "    else:\n",
    "        for field in twitter_user_info_fields:\n",
    "            if hasattr(user, field):\n",
    "                tmp = {field: getattr(user, field)}\n",
    "            row.update(tmp)\n",
    "\n",
    "    rows.append(row)\n",
    "\n",
    "    # Avoid hitting rate limit\n",
    "    if i % int(rate_limit/4) == int(rate_limit/4) - 1:\n",
    "        secs_to_sleep = 0\n",
    "        print(f\"Runnning: {i+1}/{job_len}\")\n",
    "        try:\n",
    "            rate_limit_status = api.rate_limit_status()\n",
    "            remaining = rate_limit_status[\"resources\"][\"users\"][\"/users/show/:id\"][\"remaining\"]\n",
    "            reset = rate_limit_status[\"resources\"][\"users\"][\"/users/show/:id\"][\"reset\"]\n",
    "            if (remaining / rate_limit) < 0.10:\n",
    "                secs_to_sleep = int(rate_limit * 0.8) + randint(65, 125)\n",
    "                print(f\"Remaining use: {remaining}. Reaching rate limit. Sleeping for: {secs_to_sleep}\")\n",
    "        except tweepy.TweepError as e:\n",
    "            secs_to_sleep = int(rate_limit/4) - randint(0, 30) + randint(0, 30)\n",
    "            print(f\"Cannot get remaining use. Resource used for: {i+1}. Sleeping for: {secs_to_sleep}\")\n",
    "\n",
    "        time.sleep(secs_to_sleep)\n",
    "\n",
    "users_df = users_df.append(rows)\n",
    "users_df"
   ]
  },
  {
   "cell_type": "markdown",
   "metadata": {},
   "source": [
    "## Write user info to Excel file"
   ]
  },
  {
   "cell_type": "code",
   "execution_count": null,
   "metadata": {},
   "outputs": [],
   "source": [
    "with pd.ExcelWriter(\"users-info.xlsx\") as writer:\n",
    "    users_df.to_excel(writer, \"new\", index=False)"
   ]
  },
  {
   "cell_type": "code",
   "execution_count": null,
   "metadata": {},
   "outputs": [],
   "source": []
  }
 ],
 "metadata": {
  "kernelspec": {
   "display_name": "Python 3",
   "language": "python",
   "name": "python3"
  },
  "language_info": {
   "codemirror_mode": {
    "name": "ipython",
    "version": 3
   },
   "file_extension": ".py",
   "mimetype": "text/x-python",
   "name": "python",
   "nbconvert_exporter": "python",
   "pygments_lexer": "ipython3",
   "version": "3.7.4"
  }
 },
 "nbformat": 4,
 "nbformat_minor": 2
}
