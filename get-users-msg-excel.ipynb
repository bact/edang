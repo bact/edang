{
 "cells": [
  {
   "cell_type": "markdown",
   "metadata": {},
   "source": [
    "# Get messages of each user in a particular period of time, from Zocial Eye Excel file\n",
    "\n",
    "- **Input:** List of screen names and an Excel file contains messages (exported from ZOCIAL EYE)\n",
    "- **Output:** Messages of those screen names"
   ]
  },
  {
   "cell_type": "code",
   "execution_count": null,
   "metadata": {},
   "outputs": [],
   "source": [
    "from typing import List\n",
    "\n",
    "import datetime\n",
    "import pandas as pd\n",
    "\n",
    "##############\n",
    "\n",
    "# Accounts input (sampled users)\n",
    "USERS_FILENAME = \"data/firstvoters-samples116-info-with-labels.xlsx\"\n",
    "USERS_SHEET = \"samples\"\n",
    "SCREEN_NAME_COL = \"screen_name\"\n",
    "\n",
    "# Messages input\n",
    "MSG_FILENAME = \"edang-2019-01-21-2019-05-25.xlsx\"\n",
    "MSG_SHEET = \"twitter\"\n",
    "MSG_ACCOUNT_COL = \"Account\"\n",
    "MSG_MSG_COL = \"Message\"\n",
    "MSG_DATE_COL = \"Post time\"\n",
    "\n",
    "#############\n",
    "\n",
    "# datetime format from Zocial Eye Excel export\n",
    "DATETIME_FORMAT = '%Y-%m-%d %H:%M:%S'  # 2019-02-15 15:50:56\n",
    "\n",
    "# the election day\n",
    "ELECTION_DATE = datetime.datetime(2019, 3, 24)\n",
    "\n",
    "START_DATE = datetime.datetime(2019, 3, 23) \n",
    "END_DATE = datetime.datetime(2019, 3, 25)"
   ]
  },
  {
   "cell_type": "markdown",
   "metadata": {},
   "source": [
    "## Read messages"
   ]
  },
  {
   "cell_type": "code",
   "execution_count": null,
   "metadata": {},
   "outputs": [],
   "source": [
    "msg_df = pd.read_excel(MSG_FILENAME, sheet_name=MSG_SHEET, usecols=[MSG_ACCOUNT_COL, MSG_MSG_COL, MSG_DATE_COL])\n",
    "\n",
    "# Use only date part, discards time\n",
    "msg_df[MSG_DATE_COL] = pd.to_datetime(msg_df[MSG_DATE_COL]).dt.normalize()\n",
    "msg_df.head()"
   ]
  },
  {
   "cell_type": "markdown",
   "metadata": {},
   "source": [
    "## Read sampled user list"
   ]
  },
  {
   "cell_type": "code",
   "execution_count": null,
   "metadata": {},
   "outputs": [],
   "source": [
    "screen_names_df = pd.read_excel(USERS_FILENAME, sheet_name=USERS_SHEET, usecols=[SCREEN_NAME_COL])\n",
    "screen_names = screen_names_df[SCREEN_NAME_COL].drop_duplicates().values.tolist()\n",
    "print(f\"Screen names: {screen_names[:1]} .. {screen_names[-1:]}\")\n",
    "print(f\"Total: {len(screen_names):,}\")"
   ]
  },
  {
   "cell_type": "markdown",
   "metadata": {},
   "source": [
    "## Get message within time range"
   ]
  },
  {
   "cell_type": "code",
   "execution_count": null,
   "metadata": {},
   "outputs": [],
   "source": [
    "msg_df = msg_df[(msg_df[MSG_DATE_COL] >= START_DATE) & (msg_df[MSG_DATE_COL] <= END_DATE)]"
   ]
  },
  {
   "cell_type": "markdown",
   "metadata": {},
   "source": [
    "## Get message only for accounts in sample list"
   ]
  },
  {
   "cell_type": "code",
   "execution_count": null,
   "metadata": {},
   "outputs": [],
   "source": [
    "msg_df = msg_df[msg_df[MSG_ACCOUNT_COL].isin(screen_names)].sort_values(MSG_ACCOUNT_COL)\n",
    "msg_df"
   ]
  },
  {
   "cell_type": "code",
   "execution_count": null,
   "metadata": {},
   "outputs": [],
   "source": []
  }
 ],
 "metadata": {
  "kernelspec": {
   "display_name": "Python 3",
   "language": "python",
   "name": "python3"
  },
  "language_info": {
   "codemirror_mode": {
    "name": "ipython",
    "version": 3
   },
   "file_extension": ".py",
   "mimetype": "text/x-python",
   "name": "python",
   "nbconvert_exporter": "python",
   "pygments_lexer": "ipython3",
   "version": "3.7.5"
  }
 },
 "nbformat": 4,
 "nbformat_minor": 4
}
