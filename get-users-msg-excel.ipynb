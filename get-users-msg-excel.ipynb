{
 "cells": [
  {
   "cell_type": "markdown",
   "metadata": {},
   "source": [
    "# Get messages of each user in a particular period of time, from Zocial Eye Excel file"
   ]
  },
  {
   "cell_type": "code",
   "execution_count": null,
   "metadata": {},
   "outputs": [],
   "source": [
    "from typing import List\n",
    "\n",
    "import datetime\n",
    "import pandas as pd\n",
    "\n",
    "##############\n",
    "\n",
    "# Accounts input (sampled users)\n",
    "accounts_file_name = \"edang-firstvoters-info-samples.xlsx\"\n",
    "accounts_sheet_name = \"samples\"\n",
    "screen_name_col = \"screen_name\"\n",
    "\n",
    "# Messages input\n",
    "msg_file_name = \"edang-2019-01-21-2019-05-25.xlsx\"\n",
    "msg_sheet_name = \"twitter\"\n",
    "msg_account_col = \"Account\"\n",
    "msg_msg_col = \"Message\"\n",
    "msg_date_col = \"Post time\"\n",
    "\n",
    "#############\n",
    "\n",
    "# datetime format from Zocial Eye Excel export\n",
    "datetime_format = '%Y-%m-%d %H:%M:%S'  # 2019-02-15 15:50:56\n",
    "\n",
    "# the election day\n",
    "election_date = datetime.datetime(2019, 3, 24)\n",
    "\n",
    "start_date = datetime.datetime(2019, 3, 23) \n",
    "end_date = datetime.datetime(2019, 3, 25)"
   ]
  },
  {
   "cell_type": "markdown",
   "metadata": {},
   "source": [
    "## Read messages"
   ]
  },
  {
   "cell_type": "code",
   "execution_count": null,
   "metadata": {},
   "outputs": [],
   "source": [
    "msg_df = pd.read_excel(msg_file_name, sheet_name=msg_sheet_name, usecols=[msg_account_col, msg_msg_col, msg_date_col])\n",
    "\n",
    "# Use only date part, discards time\n",
    "msg_df[msg_date_col] = pd.to_datetime(msg_df[msg_date_col]).dt.normalize()\n",
    "msg_df.head()"
   ]
  },
  {
   "cell_type": "markdown",
   "metadata": {},
   "source": [
    "## Read sampled user list"
   ]
  },
  {
   "cell_type": "code",
   "execution_count": null,
   "metadata": {},
   "outputs": [],
   "source": [
    "screen_names_df = pd.read_excel(accounts_file_name, sheet_name=accounts_sheet_name, usecols=[screen_name_col])\n",
    "screen_names = screen_names_df[\"screen_name\"].drop_duplicates().values.tolist()\n",
    "print(f\"Screen names: {screen_names[:1]} .. {screen_names[-1:]}\")\n",
    "print(f\"Total: {len(screen_names):,}\")"
   ]
  },
  {
   "cell_type": "markdown",
   "metadata": {},
   "source": [
    "## Get message within time range"
   ]
  },
  {
   "cell_type": "code",
   "execution_count": null,
   "metadata": {},
   "outputs": [],
   "source": [
    "msg_df = msg_df[(msg_df[\"Post time\"] >= start_date) & (msg_df[\"Post time\"] <= end_date)]"
   ]
  },
  {
   "cell_type": "markdown",
   "metadata": {},
   "source": [
    "## Get message only for accounts in sample list"
   ]
  },
  {
   "cell_type": "code",
   "execution_count": null,
   "metadata": {},
   "outputs": [],
   "source": [
    "msg_df = msg_df[msg_df[\"Account\"].isin(screen_names)].sort_values(\"Account\")\n",
    "msg_df"
   ]
  },
  {
   "cell_type": "code",
   "execution_count": null,
   "metadata": {},
   "outputs": [],
   "source": []
  }
 ],
 "metadata": {
  "kernelspec": {
   "display_name": "Python 3",
   "language": "python",
   "name": "python3"
  },
  "language_info": {
   "codemirror_mode": {
    "name": "ipython",
    "version": 3
   },
   "file_extension": ".py",
   "mimetype": "text/x-python",
   "name": "python",
   "nbconvert_exporter": "python",
   "pygments_lexer": "ipython3",
   "version": "3.7.4"
  }
 },
 "nbformat": 4,
 "nbformat_minor": 2
}
