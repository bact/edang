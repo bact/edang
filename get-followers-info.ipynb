{
 "cells": [
  {
   "cell_type": "markdown",
   "metadata": {},
   "source": [
    "# Get followers\n",
    "\n",
    "## Setup, Twitter tokens, inputs"
   ]
  },
  {
   "cell_type": "code",
   "execution_count": 1,
   "metadata": {},
   "outputs": [],
   "source": [
    "from configparser import ConfigParser\n",
    "import pickle\n",
    "import time\n",
    "from random import randint\n",
    "\n",
    "import pandas as pd\n",
    "import tweepy\n",
    "\n",
    "\n",
    "# Accounts input\n",
    "accounts_filename = \"edang-firstvoters-info-samples.xlsx\"\n",
    "accounts_sheet = \"samples\"\n",
    "screen_name_column = \"screen_name\"\n",
    "id_column = \"id_str\"\n",
    "\n",
    "# Read Twitter API keys and tokens from a config file\n",
    "config_object = ConfigParser()\n",
    "config_object.read(\"config.ini\")\n",
    "twitter_auth = config_object[\"TWITTER_AUTH\"]\n",
    "\n",
    "consumer_key = twitter_auth[\"CONSUMER_KEY\"]\n",
    "consumer_secret = twitter_auth[\"CONSUMER_SECRET\"]\n",
    "access_token = twitter_auth[\"ACCESS_TOKEN\"]\n",
    "access_token_secret = twitter_auth[\"ACCESS_TOKEN_SECRET\"]\n",
    "\n",
    "\n",
    "def print_progress(i: int):\n",
    "    if (i+1) % 10 == 0:\n",
    "        print(\"/\", end=\"\")\n",
    "    elif (i+1) % 5 == 0:\n",
    "        print(\",\", end=\"\")\n",
    "    else:\n",
    "        print(\".\", end=\"\")\n",
    "\n",
    "\n",
    "auth = tweepy.OAuthHandler(consumer_key, consumer_secret)\n",
    "auth.set_access_token(access_token, access_token_secret)\n",
    "\n",
    "api = tweepy.API(auth, wait_on_rate_limit=True, wait_on_rate_limit_notify=True, compression=True, retry_count=1, retry_delay=2)\n",
    "\n",
    "users_df = pd.read_excel(accounts_filename, sheet_name=accounts_sheet)\n",
    "ids = users_df[id_column].to_list()\n",
    "\n",
    "screen_names = users_df[screen_name_column].to_list()\n",
    "\n",
    "print(f\"Screen names: {screen_names[:1]} .. {screen_names[-1:]}\")\n",
    "print(f\"Total: {len(screen_names):,}\")"
   ]
  },
  {
   "cell_type": "markdown",
   "metadata": {},
   "source": [
    "## Get followers of each user"
   ]
  },
  {
   "cell_type": "code",
   "execution_count": null,
   "metadata": {},
   "outputs": [],
   "source": [
    "# Wait to get full remaining calls\n",
    "def to_sleep(reset: int):\n",
    "    secs_to_sleep = reset - int(time.time())\n",
    "    if secs_to_sleep > 180:\n",
    "        secs_to_sleep = 180 + randint(1, 20)\n",
    "    return secs_to_sleep\n",
    "\n",
    "rate_limit_status = api.rate_limit_status()[\"resources\"][\"followers\"][\"/followers/list\"]\n",
    "rate_limit = rate_limit_status[\"limit\"]\n",
    "remaining = rate_limit_status[\"remaining\"]\n",
    "limit_reset = rate_limit_status[\"reset\"]\n",
    "\n",
    "while remaining < rate_limit - 1 and limit_reset < 60:\n",
    "    secs_to_sleep = to_sleep(limit_reset)\n",
    "    print(f\"Calls remaining: {remaining}. Sleeping for: {secs_to_sleep}\")\n",
    "    time.sleep(secs_to_sleep)\n",
    "\n",
    "    rate_limit_status = api.rate_limit_status()[\"resources\"][\"followers\"][\"/followers/list\"]\n",
    "    remaining = rate_limit_status[\"remaining\"]\n",
    "    limit_reset = rate_limit_status[\"reset\"]\n",
    "\n",
    "# Start collecting\n",
    "followers = {}\n",
    "for i, name in enumerate(screen_names):\n",
    "    print(f\"{i+1:3}/{job_len} Screen name: {name} |\", end=\"\")\n",
    "\n",
    "    _followers = []\n",
    "    try:\n",
    "        cursor = tweepy.Cursor(api.followers, screen_name=name)\n",
    "        for p, page in enumerate(cursor.pages()):\n",
    "            _followers.extend(page)\n",
    "            print_progress(p)\n",
    "            time.sleep(randint(58, 62))  # ~60 seconds per page, to stay in rate limit\n",
    "    except tweepy.TweepError as e:\n",
    "        print(f\"Error: {e.api_code}\")\n",
    "        print(e.reason)\n",
    "    else:\n",
    "        print(f\"| Done.\")\n",
    "        followers[name] = _followers\n",
    "\n",
    "    time.sleep(randint(1, 3))\n",
    "\n",
    "len(followers)"
   ]
  },
  {
   "cell_type": "markdown",
   "metadata": {},
   "source": [
    "## Save data to file"
   ]
  },
  {
   "cell_type": "code",
   "execution_count": null,
   "metadata": {},
   "outputs": [],
   "source": [
    "print(f\"Save: {len(followers):,} entries\")\n",
    "with open(\"followers.pkl\", \"wb\") as file:\n",
    "    pickle.dump(followers, file)"
   ]
  },
  {
   "cell_type": "code",
   "execution_count": null,
   "metadata": {},
   "outputs": [],
   "source": []
  }
 ],
 "metadata": {
  "kernelspec": {
   "display_name": "Python 3",
   "language": "python",
   "name": "python3"
  },
  "language_info": {
   "codemirror_mode": {
    "name": "ipython",
    "version": 3
   },
   "file_extension": ".py",
   "mimetype": "text/x-python",
   "name": "python",
   "nbconvert_exporter": "python",
   "pygments_lexer": "ipython3",
   "version": "3.7.4"
  }
 },
 "nbformat": 4,
 "nbformat_minor": 2
}
